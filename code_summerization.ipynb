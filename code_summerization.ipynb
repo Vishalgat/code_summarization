{
 "cells": [
  {
   "cell_type": "code",
   "execution_count": 1,
   "id": "d3169e77-067c-4e57-90ba-f3b2b97ddb8e",
   "metadata": {},
   "outputs": [],
   "source": [
    "from transformers import pipeline"
   ]
  },
  {
   "cell_type": "code",
   "execution_count": 7,
   "id": "b47b51c5-f5de-49ca-85fe-3ff4a2fe7d37",
   "metadata": {},
   "outputs": [
    {
     "name": "stdout",
     "output_type": "stream",
     "text": [
      "WARNING:tensorflow:From C:\\Users\\khotv\\anaconda3\\Lib\\site-packages\\tf_keras\\src\\losses.py:2976: The name tf.losses.sparse_softmax_cross_entropy is deprecated. Please use tf.compat.v1.losses.sparse_softmax_cross_entropy instead.\n",
      "\n"
     ]
    },
    {
     "data": {
      "application/vnd.jupyter.widget-view+json": {
       "model_id": "0af9ee03add24ad0ac12e4f78b91880d",
       "version_major": 2,
       "version_minor": 0
      },
      "text/plain": [
       "pytorch_model.bin:   0%|          | 0.00/892M [00:00<?, ?B/s]"
      ]
     },
     "metadata": {},
     "output_type": "display_data"
    },
    {
     "data": {
      "application/vnd.jupyter.widget-view+json": {
       "model_id": "f69eddba4b5943149e8da864d63adabf",
       "version_major": 2,
       "version_minor": 0
      },
      "text/plain": [
       "tokenizer_config.json:   0%|          | 0.00/1.93k [00:00<?, ?B/s]"
      ]
     },
     "metadata": {},
     "output_type": "display_data"
    },
    {
     "data": {
      "application/vnd.jupyter.widget-view+json": {
       "model_id": "1e7b872107d744859d31e673954d72f5",
       "version_major": 2,
       "version_minor": 0
      },
      "text/plain": [
       "spiece.model:   0%|          | 0.00/792k [00:00<?, ?B/s]"
      ]
     },
     "metadata": {},
     "output_type": "display_data"
    },
    {
     "data": {
      "application/vnd.jupyter.widget-view+json": {
       "model_id": "9171de19db854264b7ae05134dfeae16",
       "version_major": 2,
       "version_minor": 0
      },
      "text/plain": [
       "tokenizer.json:   0%|          | 0.00/1.39M [00:00<?, ?B/s]"
      ]
     },
     "metadata": {},
     "output_type": "display_data"
    },
    {
     "data": {
      "application/vnd.jupyter.widget-view+json": {
       "model_id": "3f42f9040d1549aa92443ddc28ded686",
       "version_major": 2,
       "version_minor": 0
      },
      "text/plain": [
       "special_tokens_map.json:   0%|          | 0.00/1.79k [00:00<?, ?B/s]"
      ]
     },
     "metadata": {},
     "output_type": "display_data"
    }
   ],
   "source": [
    "summarizer = pipeline('text2text-generation', model='describeai/gemini-small')"
   ]
  },
  {
   "cell_type": "code",
   "execution_count": 14,
   "id": "edd3e889-cde0-4437-b009-6baf680ac187",
   "metadata": {},
   "outputs": [],
   "source": [
    "# code = \"print('hello world!')\"\n",
    "\n",
    "code  = \"\"\"\n",
    "n = 10\n",
    "num1 = 0\n",
    "num2 = 1\n",
    "next_number = num2  \n",
    "count = 1\n",
    " \n",
    "while count <= n:\n",
    "    print(next_number, end=\" \")\n",
    "    count += 1\n",
    "    num1, num2 = num2, next_number\n",
    "    next_number = num1 + num2\n",
    "print()\n",
    "\"\"\""
   ]
  },
  {
   "cell_type": "code",
   "execution_count": 15,
   "id": "2858bdf7-1777-454a-96d1-486105ceb7d5",
   "metadata": {},
   "outputs": [],
   "source": [
    "response = summarizer(code, max_length=500, num_beams=3)"
   ]
  },
  {
   "cell_type": "code",
   "execution_count": 16,
   "id": "747ab1d8-8230-4212-a939-bc6a16abe617",
   "metadata": {},
   "outputs": [
    {
     "name": "stdout",
     "output_type": "stream",
     "text": [
      "Summarized code: This function is used to print a number. The first argument to this function is the number to be printed. The second argument is the number to be printed.\n"
     ]
    }
   ],
   "source": [
    "print(\"Summarized code: \" + response[0]['generated_text'])"
   ]
  },
  {
   "cell_type": "code",
   "execution_count": null,
   "id": "769c3acf-b388-409a-aead-083fbcceb071",
   "metadata": {},
   "outputs": [],
   "source": []
  },
  {
   "cell_type": "code",
   "execution_count": null,
   "id": "9403010b-692a-4d7f-a3a5-45ba1012334c",
   "metadata": {},
   "outputs": [],
   "source": []
  },
  {
   "cell_type": "code",
   "execution_count": null,
   "id": "4c05d3bf-205b-4362-ad6b-b14b4a2a63bf",
   "metadata": {},
   "outputs": [],
   "source": []
  },
  {
   "cell_type": "code",
   "execution_count": null,
   "id": "c6a4c937-6206-4b2a-8d4e-1197aae633b0",
   "metadata": {},
   "outputs": [],
   "source": []
  }
 ],
 "metadata": {
  "kernelspec": {
   "display_name": "Python 3 (ipykernel)",
   "language": "python",
   "name": "python3"
  },
  "language_info": {
   "codemirror_mode": {
    "name": "ipython",
    "version": 3
   },
   "file_extension": ".py",
   "mimetype": "text/x-python",
   "name": "python",
   "nbconvert_exporter": "python",
   "pygments_lexer": "ipython3",
   "version": "3.11.7"
  }
 },
 "nbformat": 4,
 "nbformat_minor": 5
}
